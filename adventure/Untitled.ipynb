{
 "cells": [
  {
   "cell_type": "code",
   "execution_count": 1,
   "metadata": {
    "collapsed": false
   },
   "outputs": [
    {
     "name": "stderr",
     "output_type": "stream",
     "text": [
      "usage: python -m adventure [-h] [savefile]\n",
      "python -m adventure: error: unrecognized arguments: -f\n"
     ]
    },
    {
     "ename": "SystemExit",
     "evalue": "2",
     "output_type": "error",
     "traceback": [
      "An exception has occurred, use %tb to see the full traceback.\n",
      "\u001b[0;31mSystemExit\u001b[0m\u001b[0;31m:\u001b[0m 2\n"
     ]
    },
    {
     "name": "stderr",
     "output_type": "stream",
     "text": [
      "//anaconda/envs/[Python3]/lib/python3.5/site-packages/IPython/core/interactiveshell.py:2889: UserWarning: To exit: use 'exit', 'quit', or Ctrl-D.\n",
      "  warn(\"To exit: use 'exit', 'quit', or Ctrl-D.\", stacklevel=1)\n"
     ]
    }
   ],
   "source": [
    "\"\"\"Offer Adventure at a custom command prompt.\"\"\"\n",
    "\n",
    "import argparse\n",
    "import os\n",
    "import re\n",
    "from sys import executable, stdout\n",
    "from time import sleep\n",
    "from play import load_advent_dat\n",
    "from game import Game\n",
    "\n",
    "BAUD = 1200\n",
    "\n",
    "def baudout(s):\n",
    "    for c in s:\n",
    "        sleep(9. / BAUD)  # 8 bits + 1 stop bit @ the given baud rate\n",
    "        stdout.write(c)\n",
    "        stdout.flush()\n",
    "\n",
    "def loop():\n",
    "    parser = argparse.ArgumentParser(\n",
    "        description='Adventure into the Colossal Caves.',\n",
    "        prog='{} -m adventure'.format(os.path.basename(executable)))\n",
    "    parser.add_argument(\n",
    "        'savefile', nargs='?', help='The filename of game you have saved.')\n",
    "    args = parser.parse_args()\n",
    "\n",
    "    if args.savefile is None:\n",
    "        game = Game()\n",
    "        load_advent_dat(game)\n",
    "        game.start()\n",
    "        baudout(game.output)\n",
    "    else:\n",
    "        game = Game.resume(args.savefile)\n",
    "        baudout('GAME RESTORED\\n')\n",
    "\n",
    "    while not game.is_finished:\n",
    "        line = raw_input('> ')\n",
    "        words = re.findall(r'\\w+', line)\n",
    "        if words:\n",
    "            baudout(game.do_command(words))\n",
    "\n",
    "if __name__ == \"__main__\":\n",
    "    try:\n",
    "        loop()\n",
    "    except EOFError:\n",
    "        pass\n"
   ]
  },
  {
   "cell_type": "code",
   "execution_count": null,
   "metadata": {
    "collapsed": true
   },
   "outputs": [],
   "source": []
  }
 ],
 "metadata": {
  "anaconda-cloud": {},
  "kernelspec": {
   "display_name": "Python [conda env:[Python3]]",
   "language": "python",
   "name": "conda-env-[Python3]-py"
  },
  "language_info": {
   "codemirror_mode": {
    "name": "ipython",
    "version": 3
   },
   "file_extension": ".py",
   "mimetype": "text/x-python",
   "name": "python",
   "nbconvert_exporter": "python",
   "pygments_lexer": "ipython3",
   "version": "3.5.2"
  }
 },
 "nbformat": 4,
 "nbformat_minor": 1
}
